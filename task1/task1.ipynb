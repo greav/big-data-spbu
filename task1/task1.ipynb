{
 "cells": [
  {
   "cell_type": "code",
   "execution_count": 1,
   "metadata": {},
   "outputs": [],
   "source": [
    "%load_ext autoreload\n",
    "%autoreload 2"
   ]
  },
  {
   "cell_type": "code",
   "execution_count": 17,
   "metadata": {},
   "outputs": [],
   "source": [
    "import os\n",
    "import time\n",
    "\n",
    "from generate import generate\n",
    "from sequential import sequential_aggregation\n",
    "from parallel import parallel_aggregation, N_PROCESSES"
   ]
  },
  {
   "cell_type": "code",
   "execution_count": 8,
   "metadata": {},
   "outputs": [],
   "source": [
    "bin_file = \"numbers.bin\""
   ]
  },
  {
   "cell_type": "code",
   "execution_count": 9,
   "metadata": {},
   "outputs": [
    {
     "name": "stderr",
     "output_type": "stream",
     "text": [
      "100%|██████████| 536870912/536870912 [14:43<00:00, 607668.81it/s]\n"
     ]
    }
   ],
   "source": [
    "generate(bin_file)"
   ]
  },
  {
   "cell_type": "code",
   "execution_count": 12,
   "metadata": {},
   "outputs": [
    {
     "data": {
      "text/plain": [
       "2.0"
      ]
     },
     "execution_count": 12,
     "metadata": {},
     "output_type": "execute_result"
    }
   ],
   "source": [
    "os.path.getsize(bin_file) / (1024**3)"
   ]
  },
  {
   "cell_type": "code",
   "execution_count": 16,
   "metadata": {},
   "outputs": [
    {
     "name": "stdout",
     "output_type": "stream",
     "text": [
      "sequential >>> total time: 473.53256181300094 seconds, min_number: 27, max_number: 4294967295, sum: 1152956209744295778\n"
     ]
    }
   ],
   "source": [
    "start_time = time.perf_counter()\n",
    "min_number, max_number, sum_ = sequential_aggregation(bin_file)\n",
    "total_time = time.perf_counter() - start_time\n",
    "\n",
    "print(f\"sequential >>> total time: {total_time} seconds, min_number: {min_number}, max_number: {max_number}, sum: {sum_}\")"
   ]
  },
  {
   "cell_type": "code",
   "execution_count": 18,
   "metadata": {},
   "outputs": [
    {
     "name": "stdout",
     "output_type": "stream",
     "text": [
      "parallel >>> total time: 163.8112729150016 seconds, min_number: 27, max_number: 4294967295, sum: 1152956209744295778, n_processes: 4\n"
     ]
    }
   ],
   "source": [
    "start_time = time.perf_counter()\n",
    "min_number, max_number, sum_ = parallel_aggregation(bin_file, n_chunks=1024)\n",
    "total_time = time.perf_counter() - start_time\n",
    "\n",
    "print(f\"parallel >>> total time: {total_time} seconds, min_number: {min_number}, max_number: {max_number}, sum: {sum_}, n_processes: {N_PROCESSES}\")"
   ]
  },
  {
   "cell_type": "code",
   "execution_count": null,
   "metadata": {},
   "outputs": [],
   "source": []
  }
 ],
 "metadata": {
  "kernelspec": {
   "display_name": "experiments",
   "language": "python",
   "name": "experiments"
  },
  "language_info": {
   "codemirror_mode": {
    "name": "ipython",
    "version": 3
   },
   "file_extension": ".py",
   "mimetype": "text/x-python",
   "name": "python",
   "nbconvert_exporter": "python",
   "pygments_lexer": "ipython3",
   "version": "3.7.5"
  }
 },
 "nbformat": 4,
 "nbformat_minor": 4
}
